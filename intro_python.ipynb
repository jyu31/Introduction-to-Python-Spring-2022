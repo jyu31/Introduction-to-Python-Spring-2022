{
 "cells": [
  {
   "cell_type": "markdown",
   "metadata": {
    "colab_type": "text",
    "id": "view-in-github"
   },
   "source": [
    "<a href=\"https://colab.research.google.com/github/jyu31/Introduction-to-Python-Spring-2022/blob/main/intro_python.ipynb\" target=\"_parent\"><img src=\"https://colab.research.google.com/assets/colab-badge.svg\" alt=\"Open In Colab\"/></a>"
   ]
  },
  {
   "cell_type": "markdown",
   "metadata": {
    "colab_type": "text",
    "id": "u1YDPNtbdHDj"
   },
   "source": [
    "\n",
    " #  Introduction to Python\n",
    "##  February 23 2022\n",
    "## Spring 2022 Tarining\n",
    "\n",
    "<a id='top'></a>"
   ]
  },
  {
   "cell_type": "markdown",
   "metadata": {
    "colab_type": "text",
    "id": "VB--CYOSdHDm"
   },
   "source": [
    "<a id='overview'></a>\n",
    "# Topics Covered\n",
    "\n",
    " * What is Python\n",
    " * Python programming basics\n",
    " * Control structures and functions\n",
    " * Python modules\n",
    "<br>"
   ]
  },
  {
   "cell_type": "markdown",
   "metadata": {
    "colab_type": "text",
    "id": "ipgvJSsRdHDn"
   },
   "source": [
    "<a id='intro'></a>\n",
    "## What is Python?\n",
    "\n",
    " * A general-purpose programming language by Guido van Rossum\n",
    " * Intuitive and minimal coding\n",
    " * Interpreted not compiled\n",
    " * Dynamically typed, no type declarations, data type is tracked at runtime\n",
    " * Automatic memory management\n",
    " * Spacing defines blocks of code such as control structures and blocks\n",
    "  <br>"
   ]
  },
  {
   "cell_type": "markdown",
   "metadata": {
    "colab_type": "text",
    "id": "H-fKj1GCvJQW"
   },
   "source": [
    "# Why  Python?\n",
    "\n",
    "## Advantages\n",
    "* Ease of programming\n",
    "* Minimal time to develop and maintain codes\n",
    "* Modular and object-oriented\n",
    "* Large standard and user-contributed libraries\n",
    "* Large user community\n",
    " \n",
    "## Disadvantages\n",
    " * Interpreted and therefore slower than compiled languages\n",
    " * Not great for 3D graphic applications requiring intensive computations\n",
    "  <br>"
   ]
  },
  {
   "cell_type": "markdown",
   "metadata": {
    "colab_type": "text",
    "id": "Dm_ItPN0dHDo"
   },
   "source": [
    "## What is IPython?\n",
    "\n",
    " IPython: an interactive command shell for Python (2001) by Fernando Perez\n",
    "* Enhanced Read-Eval-Print Loop (REPL) environment\n",
    "* Command tab-completion, color-highlighted error messages..\n",
    "* Basic Linux shell integration (cp, ls, rm…)\n",
    "* Great for plotting!\n",
    "* More information click _[ipython.org](http://ipython.org)_\n"
   ]
  },
  {
   "cell_type": "markdown",
   "metadata": {
    "colab_type": "text",
    "id": "lWz4EJiZdHDo"
   },
   "source": [
    "## Jupyter Notebook \n",
    "\n",
    "* Web interface to Python, introduced in 2015 \n",
    "* Rich text, improved graphical capabilities\n",
    "* Integrate many existing web libraries for data visualization\n",
    "* Allow to create and share documents that contain live code, equations, visualizations and explanatory text. \n",
    "* Interface with over 40 languages, such as R, Julia and Scala\n",
    "* This colab.research.google.com notebook is a Jupyter notebook\n",
    "[back to top](#top)\n",
    "\n",
    "\n"
   ]
  },
  {
   "cell_type": "markdown",
   "metadata": {
    "colab_type": "text",
    "id": "krWd44XodHDp"
   },
   "source": [
    "## Variables \n",
    "\n",
    "* Variable type is dynamically determined from the value it is assigned, no data type is declared\n",
    "* Assign meaningful variable names\n",
    "* Some keywords are reserved such as ‘print’, ‘assert’,  ‘while’, ‘lambda’, 'for', 'if'. \n",
    "* A variable is assigned a value using the ‘=’ operator, example:   x = 3 which is read as \"the variable x is assigned the value of 3\"\n",
    "* Reference of [keywords](https://docs.python.org/3/reference/lexical_analysis.html#keywords)\n"
   ]
  },
  {
   "cell_type": "markdown",
   "metadata": {
    "colab_type": "text",
    "id": "R7DyZUcJdHDp"
   },
   "source": [
    "## Operators \n",
    "\n",
    "* Arithmetic operators +, -, *, /, // (integer division for  floating point numbers), ’**’ power\n",
    "* Boolean operators and, or and not\n",
    "* Comparison operators >, <, >= (greater or equal), <= (less or equal), == equality\n",
    "\n"
   ]
  },
  {
   "cell_type": "markdown",
   "metadata": {
    "colab_type": "text",
    "id": "DqzfTKX_dHDq"
   },
   "source": [
    "<a id='data-type'></a>\n",
    "## Built-in Data Types   \n",
    "\n",
    "* Number\n",
    "* String\n",
    "* List\n",
    "* Tuple\n",
    "* Dictionary\n",
    "* File    \n",
    "\n",
    " [top](#top)"
   ]
  },
  {
   "cell_type": "markdown",
   "metadata": {
    "colab_type": "text",
    "id": "KWM_ojx6dHDq"
   },
   "source": [
    "<a id='numbers'></a>\n",
    "## Numbers"
   ]
  },
  {
   "cell_type": "code",
   "execution_count": null,
   "metadata": {
    "colab": {},
    "colab_type": "code",
    "id": "_yOMyLthdHDr"
   },
   "outputs": [],
   "source": [
    "x = 3\n",
    "type(x)"
   ]
  },
  {
   "cell_type": "code",
   "execution_count": null,
   "metadata": {
    "colab": {},
    "colab_type": "code",
    "id": "R_hrkRhMdHDv"
   },
   "outputs": [],
   "source": [
    "y = 3.0\n",
    "type (y)"
   ]
  },
  {
   "cell_type": "code",
   "execution_count": null,
   "metadata": {
    "colab": {},
    "colab_type": "code",
    "id": "gbdT2LuGdHDx"
   },
   "outputs": [],
   "source": [
    "z='hello'\n",
    "type(z)"
   ]
  },
  {
   "cell_type": "code",
   "execution_count": null,
   "metadata": {
    "colab": {},
    "colab_type": "code",
    "id": "EnO7Vu1QdHD0",
    "scrolled": true
   },
   "outputs": [],
   "source": [
    "int(3.3)"
   ]
  },
  {
   "cell_type": "code",
   "execution_count": null,
   "metadata": {
    "colab": {},
    "colab_type": "code",
    "id": "fvDUy7nIdHD3"
   },
   "outputs": [],
   "source": [
    "complex(3, 2)"
   ]
  },
  {
   "cell_type": "code",
   "execution_count": null,
   "metadata": {
    "colab": {},
    "colab_type": "code",
    "id": "EzSyMKwidHD8"
   },
   "outputs": [],
   "source": [
    "abs(-3.3)"
   ]
  },
  {
   "cell_type": "markdown",
   "metadata": {
    "colab_type": "text",
    "id": "_XDWU4R-dHED"
   },
   "source": [
    "<a id='string'></a>\n",
    "## Strings"
   ]
  },
  {
   "cell_type": "code",
   "execution_count": null,
   "metadata": {
    "colab": {},
    "colab_type": "code",
    "id": "lRqQ2KwHdHEE"
   },
   "outputs": [],
   "source": [
    "my_str = 'Hello World'"
   ]
  },
  {
   "cell_type": "code",
   "execution_count": null,
   "metadata": {
    "colab": {},
    "colab_type": "code",
    "id": "4R7QI39sdHEG",
    "scrolled": false
   },
   "outputs": [],
   "source": [
    "print(my_str); len(my_str)"
   ]
  },
  {
   "cell_type": "code",
   "execution_count": null,
   "metadata": {
    "colab": {},
    "colab_type": "code",
    "id": "4zQd6w2odHEN",
    "scrolled": true
   },
   "outputs": [],
   "source": [
    "#indexing starting at 0\n",
    "print(my_str[0]); print(my_str[1]); print(my_str[10]); print(my_str[-1])"
   ]
  },
  {
   "cell_type": "code",
   "execution_count": null,
   "metadata": {
    "colab": {},
    "colab_type": "code",
    "id": "sM7y1xrzdHEQ",
    "scrolled": true
   },
   "outputs": [],
   "source": [
    "#string slicing\n",
    "print(my_str[1:4]); print(my_str[:]); print(my_str[1:]); print(my_str[:4]); print(my_str[-4:-1])"
   ]
  },
  {
   "cell_type": "code",
   "execution_count": null,
   "metadata": {
    "colab": {},
    "colab_type": "code",
    "id": "jZ3WiHyQdHET",
    "scrolled": true
   },
   "outputs": [],
   "source": [
    "#string split\n",
    "s1, s2 = my_str.split(); print(s1); print(s2)"
   ]
  },
  {
   "cell_type": "code",
   "execution_count": null,
   "metadata": {
    "colab": {},
    "colab_type": "code",
    "id": "TW0WIQredHEX"
   },
   "outputs": [],
   "source": [
    "#multiple line spanning\n",
    "multilines= \"\"\"This is a multi-line\n",
    "block of sample\n",
    " text\"\"\"\n",
    "print(multilines)\n"
   ]
  },
  {
   "cell_type": "code",
   "execution_count": null,
   "metadata": {
    "colab": {},
    "colab_type": "code",
    "id": "-2c8QnMTdHEb"
   },
   "outputs": [],
   "source": [
    "#string formatting\n",
    "number_of_pigs = 300\n",
    "text = \"%d pigs in the barn, I’ll %s and %s\" %(number_of_pigs,'huff','puff')\n",
    "print(text)"
   ]
  },
  {
   "cell_type": "code",
   "execution_count": null,
   "metadata": {
    "colab": {},
    "colab_type": "code",
    "id": "IhrNjeUHdHEd",
    "scrolled": true
   },
   "outputs": [],
   "source": [
    "total= \"my share = %.5f, tip = %d\" %(24.5, 5.5)\n",
    "print(total)"
   ]
  },
  {
   "cell_type": "code",
   "execution_count": null,
   "metadata": {
    "colab": {},
    "colab_type": "code",
    "id": "-ys2Eo35dHEf",
    "scrolled": true
   },
   "outputs": [],
   "source": [
    "#more string ops\n",
    "my_str=\"Hello World\"\n",
    "print(my_str.upper())\n",
    "print(my_str.isalpha())\n",
    "print(my_str[0].isalpha())\n",
    "a='12'\n",
    "print(a.isdigit())"
   ]
  },
  {
   "cell_type": "markdown",
   "metadata": {
    "colab_type": "text",
    "id": "_GSJRSDDdHEj"
   },
   "source": [
    "<a id='list'></a>\n",
    "## Lists\n",
    "* Collection of data [ ]\n",
    "* Often used to store homogeneous values\n",
    "    * e.g., Numbers, names with the same data type\n",
    "* Mutable: modify in place without creating a new object\n"
   ]
  },
  {
   "cell_type": "code",
   "execution_count": null,
   "metadata": {
    "colab": {},
    "colab_type": "code",
    "id": "kjuBDd2CdHEj"
   },
   "outputs": [],
   "source": [
    "my_list = [1,2,9,4]\n",
    "print(my_list)\n",
    "#how to find out the data type?"
   ]
  },
  {
   "cell_type": "code",
   "execution_count": null,
   "metadata": {
    "colab": {},
    "colab_type": "code",
    "id": "5RGeAbwqdHEm"
   },
   "outputs": [],
   "source": [
    "my_list2 = list(range(-4,10,4))\n",
    "print(my_list2)"
   ]
  },
  {
   "cell_type": "code",
   "execution_count": null,
   "metadata": {
    "colab": {},
    "colab_type": "code",
    "id": "o_Kpc9EjdHEp"
   },
   "outputs": [],
   "source": [
    "# access list members by index \n",
    "# start at 0, end at n-1\n",
    "print(\"1st element =\", my_list[0])\n",
    "print(\"last element =\", my_list[3])"
   ]
  },
  {
   "cell_type": "code",
   "execution_count": null,
   "metadata": {
    "colab": {},
    "colab_type": "code",
    "id": "iEmUEwyYdHEr"
   },
   "outputs": [],
   "source": [
    "#Contatenate lists\n",
    "print(my_list + my_list)\n",
    "print(my_list *2)\n",
    "print(my_list *3)\n",
    "print(my_list)"
   ]
  },
  {
   "cell_type": "code",
   "execution_count": null,
   "metadata": {
    "colab": {},
    "colab_type": "code",
    "id": "FJIrrjo4dHEx",
    "scrolled": true
   },
   "outputs": [],
   "source": [
    "# modify list\n",
    "del my_list[0]; print(my_list)\n",
    "my_list.append(99); print(my_list)\n",
    "my_list.insert(1, 100); print(my_list)"
   ]
  },
  {
   "cell_type": "code",
   "execution_count": null,
   "metadata": {
    "colab": {},
    "colab_type": "code",
    "id": "Sbs8IVSfdHEy",
    "scrolled": true
   },
   "outputs": [],
   "source": [
    "#some list funs\n",
    "\n",
    "my_list.sort(); print(my_list)\n",
    "my_list.reverse(); print(my_list)"
   ]
  },
  {
   "cell_type": "code",
   "execution_count": null,
   "metadata": {
    "colab": {},
    "colab_type": "code",
    "id": "NQUYj0__dHE1",
    "scrolled": true
   },
   "outputs": [],
   "source": [
    "#more sorting\n",
    "my_list3 = ['cats', 'SHEEP','DOGS','horses']\n",
    "print(sorted(my_list3))\n",
    "print(sorted(my_list3, key=len))\n",
    "print(sorted(my_list3, reverse=True))\n",
    "print(my_list3)"
   ]
  },
  {
   "cell_type": "code",
   "execution_count": null,
   "metadata": {
    "colab": {},
    "colab_type": "code",
    "id": "RzRA23WMdHE7"
   },
   "outputs": [],
   "source": [
    "# sort by lowercase\n",
    "sorted(my_list3, key=str.lower)"
   ]
  },
  {
   "cell_type": "markdown",
   "metadata": {
    "colab_type": "text",
    "id": "SHQYeFQadHE_"
   },
   "source": [
    "<a id='tuple'></a>\n",
    "## Tuples\n",
    "\n",
    "  * Why Tuple?\n",
    "  * Processed faster than lists\n",
    "  * Sequence of a Tuple is protected\n",
    "  * Sequence unpacking\n",
    "\n",
    "Suprising Trait:\n",
    "\n",
    "Python tuples are immutable, but their values may change. This may happen when a tuple holds a reference to any mutable object, such as a list. ... It's clear that dum and dee refer to objects that are equal, but not to the same object.\n",
    "\n",
    "( [ On immutable but changing tuples](http://radar.oreilly.com/2014/10/python-tuples-immutable-but-potentially-changing.html))\n",
    "\n",
    "[Tutorial just on Python Tuples](https://www.tutorialspoint.com/python/python_tuples.htm)"
   ]
  },
  {
   "cell_type": "code",
   "execution_count": null,
   "metadata": {
    "colab": {},
    "colab_type": "code",
    "id": "331x350XgbOG"
   },
   "outputs": [],
   "source": [
    "my_tuple = 1, 2, 'three'\n",
    "print(my_tuple)\n",
    "#empty tuples\n",
    "my_empty_tuple = ()\n",
    "print(my_empty_tuple)"
   ]
  },
  {
   "cell_type": "code",
   "execution_count": null,
   "metadata": {
    "colab": {},
    "colab_type": "code",
    "id": "PWELXBmJg0LR",
    "scrolled": true
   },
   "outputs": [],
   "source": [
    "# you have to include a comma, even though there is only one value\n",
    "tup1 = (50,);\n",
    "print(tup1)"
   ]
  },
  {
   "cell_type": "code",
   "execution_count": null,
   "metadata": {
    "colab": {},
    "colab_type": "code",
    "id": "nlgKsOibdHE_"
   },
   "outputs": [],
   "source": [
    "my_tup = (2, 8, 3, 1)\n",
    "print(my_tup)\n",
    "a,b,c,d = my_tup\n",
    "print(a, b, c, d)\n"
   ]
  },
  {
   "cell_type": "code",
   "execution_count": null,
   "metadata": {
    "colab": {},
    "colab_type": "code",
    "id": "d85nI5mKdHFD"
   },
   "outputs": [],
   "source": [
    "print(my_tup[0])"
   ]
  },
  {
   "cell_type": "code",
   "execution_count": null,
   "metadata": {
    "colab": {},
    "colab_type": "code",
    "id": "xhYi3QKSh7-Z"
   },
   "outputs": [],
   "source": [
    "tup = ('physics', 'chemistry', 1997, 2000)\n",
    "print(tup)\n",
    "del tup\n",
    "print(\"After deleting tup : \");\n",
    "print(tup)\n"
   ]
  },
  {
   "cell_type": "markdown",
   "metadata": {
    "colab_type": "text",
    "id": "NyCpkyAXh21a"
   },
   "source": [
    "Immutable?  Not?"
   ]
  },
  {
   "cell_type": "code",
   "execution_count": null,
   "metadata": {
    "colab": {},
    "colab_type": "code",
    "id": "Iw50ZE55xwG_"
   },
   "outputs": [],
   "source": [
    "dum = ('1861-10-23', ['poetry', 'pretend-fight'])\n",
    "dee = ('1861-10-23', ['poetry', 'pretend-fight'])\n",
    "\n",
    "print(dum == dee)\n",
    "\n",
    "print(dum is dee)\n",
    "\n",
    "id(dum), id(dee)"
   ]
  },
  {
   "cell_type": "code",
   "execution_count": null,
   "metadata": {
    "colab": {},
    "colab_type": "code",
    "id": "l0RXAHIhyNBX"
   },
   "outputs": [],
   "source": [
    "t_doom = dum\n",
    "print(dum, t_doom)\n",
    "\n",
    "print(t_doom == dum)\n",
    "print(t_doom is dum)\n",
    "id(t_doom), id(dum)"
   ]
  },
  {
   "cell_type": "code",
   "execution_count": null,
   "metadata": {
    "colab": {},
    "colab_type": "code",
    "id": "TCIJtKzWzEQd"
   },
   "outputs": [],
   "source": [
    "skills = t_doom[1]\n",
    "print(skills)\n",
    "\n",
    "skills.append('rap')\n",
    "print(t_doom)\n"
   ]
  },
  {
   "cell_type": "code",
   "execution_count": null,
   "metadata": {
    "colab": {},
    "colab_type": "code",
    "id": "23NrzRmr0LFf",
    "scrolled": true
   },
   "outputs": [],
   "source": [
    "print(dum == dee)\n",
    "print(dum)"
   ]
  },
  {
   "cell_type": "markdown",
   "metadata": {
    "colab_type": "text",
    "id": "7NHEdgtwdHFG"
   },
   "source": [
    "<a id='dic'></a>\n",
    "## Dictionaries\n",
    "* List of key-value pairs { }\n",
    "* Unordered collections of objects, not indexed\n",
    "* Store objects in a random order to provide faster lookup\n",
    "* Data type are heterogeneous\n",
    "* Element are accessed by a keyword, not index\n",
    "* Elements are mutable \n",
    "* dict = {\"key1”: value1,  “key2”: value2} \n",
    "\n",
    "[Tutorialspoint.com  on  Dictionaries](https://www.tutorialspoint.com/python/python_dictionary.htm)"
   ]
  },
  {
   "cell_type": "code",
   "execution_count": null,
   "metadata": {
    "colab": {},
    "colab_type": "code",
    "id": "9gcG6o9NdHFG",
    "scrolled": true
   },
   "outputs": [],
   "source": [
    "my_dict = {'cats': 4, 'dogs':2, 'sheep':3}\n",
    "print(my_dict)"
   ]
  },
  {
   "cell_type": "code",
   "execution_count": null,
   "metadata": {
    "colab": {},
    "colab_type": "code",
    "id": "ObA5EWGWdHFL",
    "scrolled": true
   },
   "outputs": [],
   "source": [
    "print(my_dict[\"cats\"])"
   ]
  },
  {
   "cell_type": "code",
   "execution_count": null,
   "metadata": {
    "colab": {},
    "colab_type": "code",
    "id": "VNSCBGHSdHFN",
    "scrolled": true
   },
   "outputs": [],
   "source": [
    "my_dict['horse'] = 3; print(my_dict); print(sorted(my_dict))"
   ]
  },
  {
   "cell_type": "code",
   "execution_count": null,
   "metadata": {
    "colab": {},
    "colab_type": "code",
    "id": "sIfUBr5DdHFR",
    "scrolled": true
   },
   "outputs": [],
   "source": [
    "print(my_dict.keys()); print(my_dict.values())\n",
    "print(sorted(my_dict.values()))\n"
   ]
  },
  {
   "cell_type": "markdown",
   "metadata": {
    "colab_type": "text",
    "id": "Rqz5LcVEdHFX"
   },
   "source": [
    "<a id='file'></a>\n",
    "## Files\n",
    "* file open, close, read, write\n",
    "* file_handle = open(“file_name”, ‘mode’)\n",
    "    * Modes: \n",
    "    * a: append\n",
    "    * r: read only (error if not existing)\n",
    "    * w: write only\n",
    "    * r+: read/write (error if not existing)\n",
    "    * w+: read/write\n",
    "    * b: binary\n",
    "* Python has a built-in garbage collector\n",
    "* Object memory space is auto reclaimed once a file is no longer in use \n",
    "    "
   ]
  },
  {
   "cell_type": "code",
   "execution_count": null,
   "metadata": {
    "colab": {},
    "colab_type": "code",
    "id": "Vyss2yB8ptAk"
   },
   "outputs": [],
   "source": [
    "! if [ ! -f \"data.txt\" ]; then wget 'https://raw.githubusercontent.com/jyu31/Introduction-to-Python-Spring-2021/master/data.txt'; else echo 'file exists'; fi;"
   ]
  },
  {
   "cell_type": "code",
   "execution_count": null,
   "metadata": {
    "colab": {},
    "colab_type": "code",
    "id": "gV_4i_lqdHFX"
   },
   "outputs": [],
   "source": [
    "input = open('data.txt', 'r')\n",
    "content = input.read()\n",
    "input.close()\n",
    "print(content)"
   ]
  },
  {
   "cell_type": "code",
   "execution_count": null,
   "metadata": {
    "colab": {},
    "colab_type": "code",
    "id": "XhJGF4bRdHFZ"
   },
   "outputs": [],
   "source": [
    "#write to a file\n",
    "!ls -l\n",
    "output = open('write.txt','w')\n",
    "output.write(\"Writing to a file\")\n",
    "output.close()\n",
    "!ls -l\n",
    "!cat write.txt"
   ]
  },
  {
   "cell_type": "markdown",
   "metadata": {
    "colab_type": "text",
    "id": "sYQs3O-6dHFb"
   },
   "source": [
    "<a id='control'></a>\n",
    "## Control Structures \n",
    "<font color=blue>\n",
    "* if-else\n",
    "* for loops, while loops\n",
    "* break: jump out of the current loop\n",
    "* continue: jump to the top of next cycle within the loop\n",
    "* pass: do nothing \n",
    "</font> \n",
    "[top](#top)"
   ]
  },
  {
   "cell_type": "code",
   "execution_count": null,
   "metadata": {
    "colab": {},
    "colab_type": "code",
    "id": "827UT2CkdHFb"
   },
   "outputs": [],
   "source": [
    "x = 500\n",
    "if ( x > 5 ):\n",
    "  print(\"Hi, greater than 5\")\n",
    "elif ( x < 5 ):\n",
    "  print(\"Hi, smaller than 5\")\n",
    "else:\n",
    "    print(\"x = 5\")\n",
    "    "
   ]
  },
  {
   "cell_type": "code",
   "execution_count": null,
   "metadata": {
    "colab": {},
    "colab_type": "code",
    "id": "on_o62WTdHEt",
    "scrolled": false
   },
   "outputs": [],
   "source": [
    "# iterate list elements\n",
    "animals = ['dog','cat','horse']\n",
    "for pet in animals:\n",
    "    print(pet)"
   ]
  },
  {
   "cell_type": "code",
   "execution_count": null,
   "metadata": {
    "colab": {},
    "colab_type": "code",
    "id": "lpkNCkpFdHFd",
    "scrolled": true
   },
   "outputs": [],
   "source": [
    "\n",
    "for num in range(3):\n",
    "    print(num)"
   ]
  },
  {
   "cell_type": "code",
   "execution_count": null,
   "metadata": {
    "colab": {},
    "colab_type": "code",
    "id": "zsD9iVhudHFT",
    "scrolled": true
   },
   "outputs": [],
   "source": [
    "for key, value in my_dict.items():\n",
    "    print(key, value)"
   ]
  },
  {
   "cell_type": "code",
   "execution_count": null,
   "metadata": {
    "colab": {},
    "colab_type": "code",
    "id": "300FFfyxdHE9"
   },
   "outputs": [],
   "source": [
    "#list comprehension [expr for var in list]\n",
    "my_list4=[2,5,9,1]\n",
    "square = [x**2 for x in my_list4]; print(\"square =\", square)\n",
    "large = [n for n in my_list4 if n >= 5]; print('large =',large)"
   ]
  },
  {
   "cell_type": "code",
   "execution_count": null,
   "metadata": {
    "colab": {},
    "colab_type": "code",
    "id": "5Uwjvz8ndHFf",
    "scrolled": true
   },
   "outputs": [],
   "source": [
    "index=0\n",
    "while (index < 3):\n",
    "    print(index)\n",
    "    index = index + 2\n",
    "print(\"Done\")"
   ]
  },
  {
   "cell_type": "markdown",
   "metadata": {
    "colab_type": "text",
    "id": "kdPGwgCQdHFg"
   },
   "source": [
    "<div class='alert alert-block alert-danger'>  Tip: <div>\n",
    "Indentation: signify code blocks  <div>"
   ]
  },
  {
   "cell_type": "code",
   "execution_count": null,
   "metadata": {
    "colab": {},
    "colab_type": "code",
    "id": "ywVAPehHdHFh"
   },
   "outputs": [],
   "source": [
    "#http://www.pythontutor.com/visualize.html#mode=edit\n",
    "\n",
    "n = 2\n",
    "while n < 7:\n",
    "    for x in range(3,5):\n",
    "        if n < x:\n",
    "            print(\"break\")\n",
    "            break\n",
    "        elif n > x:\n",
    "            print(\"pass\")\n",
    "            pass\n",
    "        else:     \n",
    "            print(\"continue\")\n",
    "            n = n + 1\n",
    "            continue\n",
    "    n = n + 1"
   ]
  },
  {
   "cell_type": "markdown",
   "metadata": {
    "colab_type": "text",
    "id": "8sIJ4A57dHFk"
   },
   "source": [
    "<a id='module'> </a>\n",
    "## Functions\n",
    "def func_name(par1, par2,...): \n",
    "> body of code\n",
    " \n",
    " [top](#top)    \n",
    "    "
   ]
  },
  {
   "cell_type": "code",
   "execution_count": null,
   "metadata": {
    "colab": {},
    "colab_type": "code",
    "id": "B5Hf5RZLdHFk"
   },
   "outputs": [],
   "source": [
    "#addition\n",
    "def my_add(x, y):\n",
    "    return x+y\n",
    "\n",
    "sum=my_add(3, 8); print(sum)"
   ]
  },
  {
   "cell_type": "code",
   "execution_count": null,
   "metadata": {
    "colab": {},
    "colab_type": "code",
    "id": "5lyjqDO4dHFm"
   },
   "outputs": [],
   "source": [
    "#return multiple values\n",
    "def power(input):\n",
    "    return input**2, input**3\n",
    "\n",
    "power(3)"
   ]
  },
  {
   "cell_type": "markdown",
   "metadata": {
    "colab_type": "text",
    "id": "_73RPOcBdHFn"
   },
   "source": [
    "<a id='module'> </a>\n",
    "## Python Module\n",
    "* A python script with python functions and statements\n",
    "* Import a module before having access to all the functions within\n",
    "* Most Python distributions come with plenty of build-in modules \n",
    "***\n",
    " [top](#top)"
   ]
  },
  {
   "cell_type": "markdown",
   "metadata": {
    "colab_type": "text",
    "id": "h9s2tfPcdHFo"
   },
   "source": [
    "\n",
    "## Python Modules\n",
    "* math, sys, os..\n",
    "* NumPy, high performance in vector & matrix using vector computation \n",
    "* SciPy: based on Numpy, including many scientific algorithms.\n",
    "* padas\n",
    "* matplotlib, pyplot, pylab\n",
    "\n",
    "Reference to [Python3.x standard libraries](https://docs.python.org/3/library/) \n"
   ]
  },
  {
   "cell_type": "code",
   "execution_count": null,
   "metadata": {
    "colab": {},
    "colab_type": "code",
    "id": "H9NB_NcNdHFo"
   },
   "outputs": [],
   "source": [
    "#import a module\n",
    "\n",
    "import math\n",
    "print(math.pi)\n",
    "print(math.sin(60))\n",
    "print(math.sqrt(4))"
   ]
  },
  {
   "cell_type": "code",
   "execution_count": null,
   "metadata": {
    "colab": {},
    "colab_type": "code",
    "id": "LZkg2iD_dHFq"
   },
   "outputs": [],
   "source": [
    "#get information of a module\n",
    "dir(math)"
   ]
  },
  {
   "cell_type": "code",
   "execution_count": null,
   "metadata": {
    "colab": {},
    "colab_type": "code",
    "id": "m2CnZMlldHFs"
   },
   "outputs": [],
   "source": [
    "#get information\n",
    "help(math)"
   ]
  },
  {
   "cell_type": "code",
   "execution_count": null,
   "metadata": {
    "colab": {},
    "colab_type": "code",
    "id": "fL7e1I0IdHFt",
    "raw_mimetype": "text/x-python"
   },
   "outputs": [],
   "source": [
    "# get information of a module function \n",
    "help(print)"
   ]
  },
  {
   "cell_type": "markdown",
   "metadata": {
    "colab_type": "text",
    "id": "zt4YHVYPdHGR"
   },
   "source": [
    "#### Data processing\n"
   ]
  },
  {
   "cell_type": "code",
   "execution_count": null,
   "metadata": {
    "colab": {},
    "colab_type": "code",
    "id": "vkXjWnr_dHGZ"
   },
   "outputs": [],
   "source": [
    "# Plot a bar chart\n",
    "# https://matplotlib.org/\n",
    "import matplotlib.pyplot as plt\n",
    "\n",
    "\n",
    "xlabeles = ['January','February','March','April']\n",
    "xticks = [i for i in range(len(xlabeles))]\n",
    "y = [ 34, 17, 13, 69]\n",
    "e = [5.2, 10., 1.5, 12.]\n",
    "plt.errorbar(xlabeles, y, yerr=e, fmt='d', capsize=10)\n",
    "plt.bar(xlabeles, y, 0.5, color='red' )\n",
    "plt.title(\"Sale by Month\")\n",
    "plt.xlabel('Month')\n",
    "plt.ylabel('Sale')\n",
    "plt.xticks(xticks, xlabeles)\n",
    "\n",
    "plt.show()"
   ]
  },
  {
   "cell_type": "markdown",
   "metadata": {
    "colab_type": "text",
    "id": "z-YuCy6W7r_f"
   },
   "source": [
    "# Summary\n",
    "\n",
    " * Python is an interpreted language, concise yet powerful\n",
    " * Built-in data types\n",
    "     * Numbers, strings, list, dictionaries, tuples, files\n",
    " * Control structures\n",
    "     * For, while, if-else, break, pass, continue\n",
    " * Functions\n",
    " * Python modules\n",
    "  <br>"
   ]
  },
  {
   "cell_type": "markdown",
   "metadata": {
    "colab_type": "text",
    "id": "z-YuCy6W7r_f"
   },
   "source": [
    "# Please help us finish the training survey:\n",
    "\n",
    " * [Training survey](https://forms.office.com/Pages/ResponsePage.aspx?id=P61NLa5Q2UeDoJrisfRm-Gquet-W2uBIu1blHkiYGj1UNzhENzBLVVFNWkxYUEIwUlpRRzczWEVSMy4u)"
   ]
  }
 ],
 "metadata": {
  "colab": {
   "collapsed_sections": [
    "sYQs3O-6dHFb",
    "8sIJ4A57dHFk",
    "_73RPOcBdHFn",
    "h9s2tfPcdHFo",
    "zt4YHVYPdHGR"
   ],
   "include_colab_link": true,
   "name": "Copy of intro-python-colab.ipynb",
   "provenance": [],
   "version": "0.3.2"
  },
  "kernelspec": {
   "display_name": "Python 3",
   "language": "python",
   "name": "python3"
  },
  "language_info": {
   "codemirror_mode": {
    "name": "ipython",
    "version": 3
   },
   "file_extension": ".py",
   "mimetype": "text/x-python",
   "name": "python",
   "nbconvert_exporter": "python",
   "pygments_lexer": "ipython3",
   "version": "3.8.5"
  }
 },
 "nbformat": 4,
 "nbformat_minor": 1
}
